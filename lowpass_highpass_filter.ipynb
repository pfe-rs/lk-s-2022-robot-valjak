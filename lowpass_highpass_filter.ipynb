{
 "cells": [
  {
   "cell_type": "code",
   "execution_count": 1,
   "metadata": {},
   "outputs": [],
   "source": [
    "from scipy import signal\n",
    "import numpy as np"
   ]
  },
  {
   "cell_type": "code",
   "execution_count": 2,
   "metadata": {},
   "outputs": [
    {
     "name": "stdout",
     "output_type": "stream",
     "text": [
      "TransferFunctionContinuous(\n",
      "array([219.91148575]),\n",
      "array([  1.        , 219.91148575]),\n",
      "dt: None\n",
      ")\n"
     ]
    }
   ],
   "source": [
    "# Continuous transfer function\n",
    "w0 = 2*np.pi*35\n",
    "num = w0\n",
    "den = [1, w0]\n",
    "lowPass = signal.TransferFunction(num, den)\n",
    "print(lowPass)"
   ]
  },
  {
   "cell_type": "code",
   "execution_count": 3,
   "metadata": {},
   "outputs": [
    {
     "name": "stdout",
     "output_type": "stream",
     "text": [
      "TransferFunctionDiscrete(\n",
      "array([0.09906318, 0.09906318]),\n",
      "array([ 1.        , -0.80187364]),\n",
      "dt: 0.001\n",
      ")\n"
     ]
    }
   ],
   "source": [
    "# Discrete transfer function\n",
    "dt = 1.0/1000.0\n",
    "discreteLowPass = lowPass.to_discrete(dt, method='gbt',alpha=0.5)\n",
    "print(discreteLowPass)"
   ]
  },
  {
   "cell_type": "code",
   "execution_count": 4,
   "metadata": {},
   "outputs": [
    {
     "name": "stdout",
     "output_type": "stream",
     "text": [
      "Filter coefficients a_i: [0.80187364]\n",
      "Filter coefficients b_i: [0.09906318 0.09906318]\n"
     ]
    }
   ],
   "source": [
    "# Difference equation coefficients\n",
    "b = discreteLowPass.num\n",
    "a = -discreteLowPass.den\n",
    "print(\"Filter coefficients a_i: \" +  str(a[1:]))\n",
    "print(\"Filter coefficients b_i: \" +  str(b))"
   ]
  }
 ],
 "metadata": {
  "kernelspec": {
   "display_name": "Python 3.10.4 64-bit",
   "language": "python",
   "name": "python3"
  },
  "language_info": {
   "codemirror_mode": {
    "name": "ipython",
    "version": 3
   },
   "file_extension": ".py",
   "mimetype": "text/x-python",
   "name": "python",
   "nbconvert_exporter": "python",
   "pygments_lexer": "ipython3",
   "version": "3.10.4"
  },
  "orig_nbformat": 4,
  "vscode": {
   "interpreter": {
    "hash": "916dbcbb3f70747c44a77c7bcd40155683ae19c65e1c03b4aa3499c5328201f1"
   }
  }
 },
 "nbformat": 4,
 "nbformat_minor": 2
}
