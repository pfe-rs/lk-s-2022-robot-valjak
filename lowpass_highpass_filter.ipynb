{
 "cells": [
  {
   "cell_type": "code",
   "execution_count": 37,
   "metadata": {},
   "outputs": [],
   "source": [
    "from scipy import signal\n",
    "import matplotlib.pyplot as plt\n",
    "import numpy as np"
   ]
  },
  {
   "cell_type": "code",
   "execution_count": 38,
   "metadata": {},
   "outputs": [
    {
     "data": {
      "text/plain": [
       "[<matplotlib.lines.Line2D at 0x7f527d82bfd0>]"
      ]
     },
     "execution_count": 38,
     "metadata": {},
     "output_type": "execute_result"
    },
    {
     "data": {
      "image/png": "[encoded data removed]",
      "text/plain": [
       "<Figure size 640x480 with 1 Axes>"
      ]
     },
     "metadata": {},
     "output_type": "display_data"
    }
   ],
   "source": [
    "# Continuous transfer function\n",
    "low_w0 = 2*np.pi*40\n",
    "low_num = low_w0\n",
    "low_den = [1, low_w0]\n",
    "lowPass = signal.TransferFunction(low_num, low_den)\n",
    "t, f = signal.step(lowPass)\n",
    "plt.plot(t, f)\n",
    "high_w0 = 2*np.pi*0.1\n",
    "high_num = [1, 0]\n",
    "high_den = [1, high_w0]\n",
    "highPass = signal.TransferFunction(high_num, high_den)\n",
    "tt, ff = signal.step(highPass)\n",
    "plt.plot(tt, ff)\n",
    "#print(lowPass, end=\"\\n\\n\")\n",
    "#print(highPass)"
   ]
  },
  {
   "cell_type": "code",
   "execution_count": 39,
   "metadata": {},
   "outputs": [
    {
     "name": "stdout",
     "output_type": "stream",
     "text": [
      "TransferFunctionDiscrete(\n",
      "array([0.38586955, 0.38586955]),\n",
      "array([ 1.        , -0.22826091]),\n",
      "dt: 0.005\n",
      ")\n",
      "\n",
      "TransferFunctionDiscrete(\n",
      "array([ 0.99843167, -0.99843167]),\n",
      "array([ 1.        , -0.99686333]),\n",
      "dt: 0.005\n",
      ")\n"
     ]
    }
   ],
   "source": [
    "# Discrete transfer function\n",
    "dt = 1.0/200.0\n",
    "discreteLowPass = lowPass.to_discrete(dt, method='gbt', alpha=0.5)\n",
    "discreteHighPass = highPass.to_discrete(dt, method='gbt', alpha=0.5)\n",
    "print(discreteLowPass, end='\\n\\n')\n",
    "print(discreteHighPass)"
   ]
  },
  {
   "cell_type": "code",
   "execution_count": 40,
   "metadata": {},
   "outputs": [
    {
     "name": "stdout",
     "output_type": "stream",
     "text": [
      "Filter coefficients b_i: [0.38586955 0.38586955]\n",
      "Filter coefficients a_i: [0.22826091]\n",
      "\n",
      "Filter coefficients b_i: [ 0.99843167 -0.99843167]\n",
      "Filter coefficients a_i: [0.99686333]\n"
     ]
    }
   ],
   "source": [
    "# Difference equation coefficients\n",
    "low_b = discreteLowPass.num\n",
    "low_a = -discreteLowPass.den\n",
    "print(\"Filter coefficients b_i: \" +  str(low_b))\n",
    "print(\"Filter coefficients a_i: \" +  str(low_a[1:]), end=\"\\n\\n\")\n",
    "\n",
    "high_b = discreteHighPass.num\n",
    "high_a = -discreteHighPass.den\n",
    "print(\"Filter coefficients b_i: \" +  str(high_b))\n",
    "print(\"Filter coefficients a_i: \" +  str(high_a[1:]))"
   ]
  }
 ],
 "metadata": {
  "kernelspec": {
   "display_name": "Python 3.10.4 64-bit",
   "language": "python",
   "name": "python3"
  },
  "language_info": {
   "codemirror_mode": {
    "name": "ipython",
    "version": 3
   },
   "file_extension": ".py",
   "mimetype": "text/x-python",
   "name": "python",
   "nbconvert_exporter": "python",
   "pygments_lexer": "ipython3",
   "version": "3.10.4"
  },
  "orig_nbformat": 4,
  "vscode": {
   "interpreter": {
    "hash": "916dbcbb3f70747c44a77c7bcd40155683ae19c65e1c03b4aa3499c5328201f1"
   }
  }
 },
 "nbformat": 4,
 "nbformat_minor": 2
}
