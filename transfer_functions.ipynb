{
 "cells": [
  {
   "cell_type": "code",
   "execution_count": null,
   "metadata": {},
   "outputs": [],
   "source": [
    "import control\n",
    "import numpy as np\n",
    "import matplotlib.pyplot as plt\n",
    "\n",
    "# Constants\n",
    "r   = 0.226\n",
    "d   = 0.065\n",
    "g   = 9.81\n",
    "R   = 0.324\n",
    "j_1 = 0.0633\n",
    "j_2 = 0.007428\n",
    "m_1 = 3.294\n",
    "m_2 = 1.795\n",
    "k_e = 0.00638\n",
    "k_t = 0.00852\n",
    "T_v = 0.140"
   ]
  },
  {
   "cell_type": "code",
   "execution_count": null,
   "metadata": {},
   "outputs": [],
   "source": [
    "# Motor speed to Robot Angular Velocity\n",
    "A = -2*j_2 - 2*d*d*m_2 + d*r*m_2\n",
    "B = -2*g*d*m_2\n",
    "C = j_1 + 2*j_2 + r*r*m_1 + (2*d*d-3*d*r+r*r)*m_2\n",
    "D = T_v\n",
    "E = 2*g*d*m_2\n",
    "\n",
    "num1 = np.multiply([A, 0, B], 1/C)\n",
    "den1 = np.multiply([C, D, E], 1/C)\n",
    "\n",
    "H_motorSpeedToRobotVelocity = control.tf(num1, den1)\n",
    "print('H_motorSpeedToRobotVelocity(s) = ', H_motorSpeedToRobotVelocity)\n",
    "(p1, z1) = control.pzmap(H_motorSpeedToRobotVelocity, False)\n",
    "print('poles = ', p1)\n",
    "print('zeros = ', z1, end='\\n\\n')\n",
    "\n",
    "t1, f1 = control.step_response(H_motorSpeedToRobotVelocity)\n",
    "plt.plot(t1, f1)\n",
    "plt.grid()"
   ]
  },
  {
   "cell_type": "code",
   "execution_count": null,
   "metadata": {},
   "outputs": [],
   "source": [
    "# Voltage to Robot Angular Velocity\n",
    "A = -2*d*g*k_t*m_2\n",
    "B = k_t*(-2*j_2 + d*(-2*d+r)*m_2)\n",
    "C = -d*g*R*T_v*m_2 + 2*d*g*k_e*k_t*m_2\n",
    "D = -T_v*k_e*k_t + d*g*R*j_1*m_2 + d*g*r*r*R*m_1*m_2 + d*g*r*r*R*m_2*m_2\n",
    "E = -R*T_v*j_2 + 2*j_2*k_e*k_t - d*d*R*T_v*m_2 + k_e*k_t*(j_1 + r*r*m_1 \n",
    "        + (2*d*d - 3*d*r + r*r)*m_2)\n",
    "F = d*d*R*j_1*m_2 + d*d*r*r*R*m_1*m_2 + R*j_2*(j_1 + r*r*(m_1 + m_2))\n",
    "\n",
    "num2 = np.multiply([B, 0, A], 1/F)\n",
    "den2 = np.multiply([F, -E, D, -C], 1/F)\n",
    "\n",
    "H_voltageToRobotVelocity = control.tf(num2, den2)\n",
    "print('H_voltageToRobotVelocity(s) = ', H_voltageToRobotVelocity)\n",
    "(p2, z2) = control.pzmap(H_voltageToRobotVelocity, False)\n",
    "print('poles = ', p2)\n",
    "print('zeros = ', z2, end='\\n\\n')\n",
    "\n",
    "t2, f2 = control.step_response(H_voltageToRobotVelocity, np.linspace(0, 100, 1000))\n",
    "plt.plot(t2, f2)\n",
    "plt.grid()"
   ]
  },
  {
   "cell_type": "code",
   "execution_count": null,
   "metadata": {},
   "outputs": [],
   "source": [
    "# Voltage to Pendulum Angular Velocity\n",
    "A = -d*g*R*T_v*m_2 + 2*d*g*k_e*k_t*m_2\n",
    "B = -T_v*k_e*k_t + d*g*R*j_1*m_2 + d*g*r*r*R*m_1*m_2 + d*g*r*r*R*m_2*m_2\n",
    "C = -R*T_v*j_2 - d*d*R*T_v*m_2 + k_e*k_t*(j_1 + 2*j_2 + r*r*m_1 + \n",
    "        (2*d*d - 3*d*r + r*r)*m_2)\n",
    "D = R*j_1*j_2 + d*d*R*j_1*m_2 + d*d*r*r*R*m_1*m_2 + r*r*R*j_2*(m_1 + m_2)\n",
    "E = k_t*(j_1 + 2*j_2 + r*r*m_1 + (2*d*d - 3*d*r + r*r)*m_2)\n",
    "F = -k_t*T_v\n",
    "G = 2*d*g*m_2*k_t\n",
    "\n",
    "num3 = np.multiply([E, -F, G], 1/D)\n",
    "den3 = np.multiply([D, -C, B, -A], 1/D)\n",
    "\n",
    "H_voltageToPendulumVelocity = control.tf(num3, den3)\n",
    "print('H_voltageToPendulumVelocity(s) = ', H_voltageToPendulumVelocity)\n",
    "(p3, z3) = control.pzmap(H_voltageToPendulumVelocity, False)\n",
    "print('poles = ', p3)\n",
    "print('zeros = ', z3, end='\\n\\n')\n",
    "\n",
    "t3, f3 = control.step_response(control.series(H_voltageToPendulumVelocity, control.tf([1], [1, 0])), np.linspace(0, 100, 1000))\n",
    "plt.plot(t3, f3)\n",
    "plt.grid()"
   ]
  },
  {
   "cell_type": "code",
   "execution_count": null,
   "metadata": {},
   "outputs": [],
   "source": [
    "# PID controller for The Angular Velocity of the Robot\n",
    "K_p = 3.66\n",
    "K_i = 0.2\n",
    "K_d = 0.05\n",
    "C = control.tf([K_d, K_p, K_i], [1, 0])\n",
    "W = control.series(control.feedback(control.series(C, H_voltageToPendulumVelocity), 1),\n",
    "                        H_motorSpeedToRobotVelocity)\n",
    "\n",
    "#W = control.tf(control.series(H_voltageToPendulum, H_speedToRotation))\n",
    "t4, f4 = control.step_response(W, np.linspace(0, 100, 1000))\n",
    "plt.plot(t4, f4)\n",
    "\n",
    "# Testing\n",
    "W = control.feedback(control.series(C, H_voltageToPendulumVelocity), 1)\n",
    "tt, ff = control.step_response(W, np.linspace(0, 100, 1000))\n",
    "#plt.plot(tt, ff)\n",
    "\n",
    "plt.grid()"
   ]
  },
  {
   "cell_type": "code",
   "execution_count": null,
   "metadata": {},
   "outputs": [],
   "source": [
    "nesto = control.series(H_voltageToPendulumVelocity, control.tf([1], [1, 0]))\n",
    "print(nesto)\n",
    "nesto2 = control.series(H_voltageToRobotVelocity, control.tf([1], [1, 0]))\n",
    "print(nesto2)\n",
    "t3, f3 = control.step_response(control.minreal(control.parallel(nesto, nesto2)), np.linspace(0, 100, 1000))\n",
    "print(control.minreal(control.parallel(nesto, nesto2)))\n",
    "plt.plot(t3, f3)\n",
    "plt.grid()"
   ]
  }
 ],
 "metadata": {
  "kernelspec": {
   "display_name": "Python 3.10.4 64-bit",
   "language": "python",
   "name": "python3"
  },
  "language_info": {
   "codemirror_mode": {
    "name": "ipython",
    "version": 3
   },
   "file_extension": ".py",
   "mimetype": "text/x-python",
   "name": "python",
   "nbconvert_exporter": "python",
   "pygments_lexer": "ipython3",
   "version": "3.10.4"
  },
  "orig_nbformat": 4,
  "vscode": {
   "interpreter": {
    "hash": "916dbcbb3f70747c44a77c7bcd40155683ae19c65e1c03b4aa3499c5328201f1"
   }
  }
 },
 "nbformat": 4,
 "nbformat_minor": 2
}
